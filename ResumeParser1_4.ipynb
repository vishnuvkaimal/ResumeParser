{
  "nbformat": 4,
  "nbformat_minor": 0,
  "metadata": {
    "colab": {
      "name": "ResumeParser1.4.ipynb",
      "provenance": [],
      "collapsed_sections": [],
      "mount_file_id": "1XbP5K92YaGvbdhylU6tGQ_MXvD2pD_t8",
      "authorship_tag": "ABX9TyPis5t1Nl1H+Uiy8B2y8QE+"
    },
    "kernelspec": {
      "name": "python3",
      "display_name": "Python 3"
    },
    "language_info": {
      "name": "python"
    }
  },
  "cells": [
    {
      "cell_type": "code",
      "execution_count": null,
      "metadata": {
        "colab": {
          "base_uri": "https://localhost:8080/"
        },
        "id": "2YJe4koHOfW3",
        "outputId": "3fd14bb2-28cc-445b-eb26-f75df67c7ba0"
      },
      "outputs": [
        {
          "output_type": "stream",
          "name": "stdout",
          "text": [
            "Collecting pyresparser\n",
            "  Downloading pyresparser-1.0.6-py3-none-any.whl (4.2 MB)\n",
            "\u001b[K     |████████████████████████████████| 4.2 MB 3.6 MB/s \n",
            "\u001b[?25hRequirement already satisfied: wasabi>=0.2.2 in /usr/local/lib/python3.7/dist-packages (from pyresparser) (0.9.1)\n",
            "Requirement already satisfied: srsly>=0.0.7 in /usr/local/lib/python3.7/dist-packages (from pyresparser) (1.0.5)\n",
            "Requirement already satisfied: attrs>=19.1.0 in /usr/local/lib/python3.7/dist-packages (from pyresparser) (21.4.0)\n",
            "Collecting docx2txt>=0.7\n",
            "  Downloading docx2txt-0.8.tar.gz (2.8 kB)\n",
            "Requirement already satisfied: pytz>=2019.1 in /usr/local/lib/python3.7/dist-packages (from pyresparser) (2022.1)\n",
            "Requirement already satisfied: chardet>=3.0.4 in /usr/local/lib/python3.7/dist-packages (from pyresparser) (3.0.4)\n",
            "Requirement already satisfied: certifi>=2019.6.16 in /usr/local/lib/python3.7/dist-packages (from pyresparser) (2021.10.8)\n",
            "Requirement already satisfied: pyrsistent>=0.15.2 in /usr/local/lib/python3.7/dist-packages (from pyresparser) (0.18.1)\n",
            "Collecting pdfminer.six>=20181108\n",
            "  Downloading pdfminer.six-20220506-py3-none-any.whl (5.6 MB)\n",
            "\u001b[K     |████████████████████████████████| 5.6 MB 32.3 MB/s \n",
            "\u001b[?25hRequirement already satisfied: tqdm>=4.32.2 in /usr/local/lib/python3.7/dist-packages (from pyresparser) (4.64.0)\n",
            "Collecting nltk>=3.4.3\n",
            "  Downloading nltk-3.7-py3-none-any.whl (1.5 MB)\n",
            "\u001b[K     |████████████████████████████████| 1.5 MB 48.2 MB/s \n",
            "\u001b[?25hRequirement already satisfied: six>=1.12.0 in /usr/local/lib/python3.7/dist-packages (from pyresparser) (1.15.0)\n",
            "Requirement already satisfied: numpy>=1.16.4 in /usr/local/lib/python3.7/dist-packages (from pyresparser) (1.21.6)\n",
            "Requirement already satisfied: thinc>=7.0.4 in /usr/local/lib/python3.7/dist-packages (from pyresparser) (7.4.0)\n",
            "Requirement already satisfied: idna>=2.8 in /usr/local/lib/python3.7/dist-packages (from pyresparser) (2.10)\n",
            "Collecting urllib3>=1.25.3\n",
            "  Downloading urllib3-1.26.9-py2.py3-none-any.whl (138 kB)\n",
            "\u001b[K     |████████████████████████████████| 138 kB 44.1 MB/s \n",
            "\u001b[?25hRequirement already satisfied: cymem>=2.0.2 in /usr/local/lib/python3.7/dist-packages (from pyresparser) (2.0.6)\n",
            "Requirement already satisfied: jsonschema>=3.0.1 in /usr/local/lib/python3.7/dist-packages (from pyresparser) (4.3.3)\n",
            "Requirement already satisfied: python-dateutil>=2.8.0 in /usr/local/lib/python3.7/dist-packages (from pyresparser) (2.8.2)\n",
            "Collecting pycryptodome>=3.8.2\n",
            "  Downloading pycryptodome-3.14.1-cp35-abi3-manylinux2010_x86_64.whl (2.0 MB)\n",
            "\u001b[K     |████████████████████████████████| 2.0 MB 31.3 MB/s \n",
            "\u001b[?25hRequirement already satisfied: pandas>=0.24.2 in /usr/local/lib/python3.7/dist-packages (from pyresparser) (1.3.5)\n",
            "Requirement already satisfied: spacy>=2.1.4 in /usr/local/lib/python3.7/dist-packages (from pyresparser) (2.2.4)\n",
            "Requirement already satisfied: preshed>=2.0.1 in /usr/local/lib/python3.7/dist-packages (from pyresparser) (3.0.6)\n",
            "Requirement already satisfied: sortedcontainers>=2.1.0 in /usr/local/lib/python3.7/dist-packages (from pyresparser) (2.4.0)\n",
            "Requirement already satisfied: requests>=2.22.0 in /usr/local/lib/python3.7/dist-packages (from pyresparser) (2.23.0)\n",
            "Requirement already satisfied: blis>=0.2.4 in /usr/local/lib/python3.7/dist-packages (from pyresparser) (0.4.1)\n",
            "Requirement already satisfied: importlib-resources>=1.4.0 in /usr/local/lib/python3.7/dist-packages (from jsonschema>=3.0.1->pyresparser) (5.7.1)\n",
            "Requirement already satisfied: importlib-metadata in /usr/local/lib/python3.7/dist-packages (from jsonschema>=3.0.1->pyresparser) (4.11.3)\n",
            "Requirement already satisfied: typing-extensions in /usr/local/lib/python3.7/dist-packages (from jsonschema>=3.0.1->pyresparser) (4.2.0)\n",
            "Requirement already satisfied: zipp>=3.1.0 in /usr/local/lib/python3.7/dist-packages (from importlib-resources>=1.4.0->jsonschema>=3.0.1->pyresparser) (3.8.0)\n",
            "Requirement already satisfied: joblib in /usr/local/lib/python3.7/dist-packages (from nltk>=3.4.3->pyresparser) (1.1.0)\n",
            "Collecting regex>=2021.8.3\n",
            "  Downloading regex-2022.4.24-cp37-cp37m-manylinux_2_17_x86_64.manylinux2014_x86_64.whl (749 kB)\n",
            "\u001b[K     |████████████████████████████████| 749 kB 45.2 MB/s \n",
            "\u001b[?25hRequirement already satisfied: click in /usr/local/lib/python3.7/dist-packages (from nltk>=3.4.3->pyresparser) (7.1.2)\n",
            "Requirement already satisfied: charset-normalizer~=2.0.0 in /usr/local/lib/python3.7/dist-packages (from pdfminer.six>=20181108->pyresparser) (2.0.12)\n",
            "Collecting cryptography~=36.0.0\n",
            "  Downloading cryptography-36.0.2-cp36-abi3-manylinux_2_24_x86_64.whl (3.6 MB)\n",
            "\u001b[K     |████████████████████████████████| 3.6 MB 33.3 MB/s \n",
            "\u001b[?25hRequirement already satisfied: cffi>=1.12 in /usr/local/lib/python3.7/dist-packages (from cryptography~=36.0.0->pdfminer.six>=20181108->pyresparser) (1.15.0)\n",
            "Requirement already satisfied: pycparser in /usr/local/lib/python3.7/dist-packages (from cffi>=1.12->cryptography~=36.0.0->pdfminer.six>=20181108->pyresparser) (2.21)\n",
            "Requirement already satisfied: murmurhash<1.1.0,>=0.28.0 in /usr/local/lib/python3.7/dist-packages (from preshed>=2.0.1->pyresparser) (1.0.7)\n",
            "Collecting urllib3>=1.25.3\n",
            "  Downloading urllib3-1.25.11-py2.py3-none-any.whl (127 kB)\n",
            "\u001b[K     |████████████████████████████████| 127 kB 57.9 MB/s \n",
            "\u001b[?25hRequirement already satisfied: catalogue<1.1.0,>=0.0.7 in /usr/local/lib/python3.7/dist-packages (from spacy>=2.1.4->pyresparser) (1.0.0)\n",
            "Requirement already satisfied: plac<1.2.0,>=0.9.6 in /usr/local/lib/python3.7/dist-packages (from spacy>=2.1.4->pyresparser) (1.1.3)\n",
            "Requirement already satisfied: setuptools in /usr/local/lib/python3.7/dist-packages (from spacy>=2.1.4->pyresparser) (57.4.0)\n",
            "Building wheels for collected packages: docx2txt\n",
            "  Building wheel for docx2txt (setup.py) ... \u001b[?25l\u001b[?25hdone\n",
            "  Created wheel for docx2txt: filename=docx2txt-0.8-py3-none-any.whl size=3980 sha256=eb10722054074b43daac8e17adc73a5c9666df103ece3711cf275733f5545c7b\n",
            "  Stored in directory: /root/.cache/pip/wheels/b7/20/b2/473e3aea9a0c0d3e7b2f7bd81d06d0794fec12752733d1f3a8\n",
            "Successfully built docx2txt\n",
            "Installing collected packages: urllib3, regex, cryptography, pycryptodome, pdfminer.six, nltk, docx2txt, pyresparser\n",
            "  Attempting uninstall: urllib3\n",
            "    Found existing installation: urllib3 1.24.3\n",
            "    Uninstalling urllib3-1.24.3:\n",
            "      Successfully uninstalled urllib3-1.24.3\n",
            "  Attempting uninstall: regex\n",
            "    Found existing installation: regex 2019.12.20\n",
            "    Uninstalling regex-2019.12.20:\n",
            "      Successfully uninstalled regex-2019.12.20\n",
            "  Attempting uninstall: nltk\n",
            "    Found existing installation: nltk 3.2.5\n",
            "    Uninstalling nltk-3.2.5:\n",
            "      Successfully uninstalled nltk-3.2.5\n",
            "\u001b[31mERROR: pip's dependency resolver does not currently take into account all the packages that are installed. This behaviour is the source of the following dependency conflicts.\n",
            "datascience 0.10.6 requires folium==0.2.1, but you have folium 0.8.3 which is incompatible.\u001b[0m\n",
            "Successfully installed cryptography-36.0.2 docx2txt-0.8 nltk-3.7 pdfminer.six-20220506 pycryptodome-3.14.1 pyresparser-1.0.6 regex-2022.4.24 urllib3-1.25.11\n"
          ]
        }
      ],
      "source": [
        "!pip install pyresparser\n",
        "\n"
      ]
    },
    {
      "cell_type": "code",
      "source": [
        "import nltk\n",
        "nltk.download('stopwords')"
      ],
      "metadata": {
        "colab": {
          "base_uri": "https://localhost:8080/"
        },
        "id": "33p4UyX4PVPg",
        "outputId": "1ff8db74-8f52-4c0e-8a23-2b724b400db7"
      },
      "execution_count": null,
      "outputs": [
        {
          "output_type": "stream",
          "name": "stderr",
          "text": [
            "[nltk_data] Downloading package stopwords to /root/nltk_data...\n",
            "[nltk_data]   Unzipping corpora/stopwords.zip.\n"
          ]
        },
        {
          "output_type": "execute_result",
          "data": {
            "text/plain": [
              "True"
            ]
          },
          "metadata": {},
          "execution_count": 3
        }
      ]
    },
    {
      "cell_type": "code",
      "source": [
        "# import cv2\n",
        "import os\n",
        "# from skimage.io import imread, imshow\n",
        "\n",
        "\n",
        "def load_images_from_folder(folder):\n",
        "    resumes = []\n",
        "    for filename in os.listdir(folder):\n",
        "        # img = cv2.imread(os.path.join(folder, filename))\n",
        "        d=ResumeParser(os.path.join(folder, filename)).get_extracted_data()\n",
        "        if d is not None:\n",
        "            resumes.append(d)\n",
        "    return resumes\n",
        "\n",
        "\n",
        "fol_path = r\"/content/drive/MyDrive/Resume Collection (1)\"\n",
        "\n",
        "# imshow(load_images_from_folder(fol_path)[0])\n",
        "print(load_images_from_folder(fol_path)[0])\n",
        "resData=load_images_from_folder(fol_path)"
      ],
      "metadata": {
        "colab": {
          "base_uri": "https://localhost:8080/"
        },
        "id": "C0TsriCAPzOY",
        "outputId": "917c422b-30e8-485e-8228-e19e9c8417c3"
      },
      "execution_count": null,
      "outputs": [
        {
          "output_type": "stream",
          "name": "stdout",
          "text": [
            "{'name': 'Machireddy Abhinagreddy', 'email': 'abhinagreddy13@gmail.com', 'mobile_number': '9182401631', 'skills': ['Engineering', 'Programming', 'Circuits', 'Excel', 'Autocad', 'Editing', 'Physics', 'English', 'Marketing', 'Video', 'C'], 'college_name': None, 'degree': ['Bachelor of Technology (B.Tech), Mechanical Engineering'], 'designation': None, 'experience': None, 'company_names': None, 'no_of_pages': 1, 'total_experience': 0}\n"
          ]
        }
      ]
    },
    {
      "cell_type": "code",
      "source": [
        "resData[106]"
      ],
      "metadata": {
        "colab": {
          "base_uri": "https://localhost:8080/"
        },
        "id": "UGP04J1DTdO5",
        "outputId": "2767c652-1947-476b-f93d-8b78790af59d"
      },
      "execution_count": null,
      "outputs": [
        {
          "output_type": "execute_result",
          "data": {
            "text/plain": [
              "{'college_name': None,\n",
              " 'company_names': None,\n",
              " 'degree': ['BTech in Electronics and \\nCommunication Engineering'],\n",
              " 'designation': None,\n",
              " 'email': '\\uf02avishnu.venkat963@gmail.com',\n",
              " 'experience': None,\n",
              " 'mobile_number': '8500166789',\n",
              " 'name': 'Andagunda Venkata',\n",
              " 'no_of_pages': 1,\n",
              " 'skills': ['C',\n",
              "  'English',\n",
              "  'Android',\n",
              "  'Technical',\n",
              "  'Matlab',\n",
              "  'Sports',\n",
              "  'Electronics',\n",
              "  'Design',\n",
              "  'Communication',\n",
              "  'System',\n",
              "  'Engineering'],\n",
              " 'total_experience': 0}"
            ]
          },
          "metadata": {},
          "execution_count": 7
        }
      ]
    },
    {
      "cell_type": "code",
      "source": [
        "# filter like or constraint\n",
        "filter=['Excel','C']\n",
        "fres1=[]\n",
        "for i in range(0,106):\n",
        "  for j in resData[i]['skills']:\n",
        "    if j in filter:\n",
        "      fres1.append(i)\n",
        "      # print(\"true\",i,j)\n",
        "\n",
        "print(fres1)"
      ],
      "metadata": {
        "colab": {
          "base_uri": "https://localhost:8080/"
        },
        "id": "au4ffyoQThRn",
        "outputId": "7015f0f5-8e35-455d-8730-3760c5658eb5"
      },
      "execution_count": null,
      "outputs": [
        {
          "output_type": "stream",
          "name": "stdout",
          "text": [
            "[0, 0, 3, 4, 5, 7, 8, 9, 10, 10, 11, 12, 14, 15, 16, 18, 19, 20, 21, 22, 24, 25, 26, 26, 27, 28, 30, 31, 32, 33, 34, 36, 38, 39, 40, 40, 43, 45, 46, 47, 48, 49, 49, 50, 51, 51, 53, 54, 55, 56, 57, 59, 60, 61, 62, 64, 65, 67, 70, 72, 75, 76, 77, 77, 80, 81, 82, 84, 85, 86, 87, 89, 90, 94, 96, 97, 98, 100, 104, 105]\n"
          ]
        }
      ]
    },
    {
      "cell_type": "code",
      "source": [
        "# Filter with all constraints\n",
        "fres2=[]\n",
        "for i in range(0,106):\n",
        "  temp=0\n",
        "  for j in resData[i]['skills']:\n",
        "    if j in filter:\n",
        "      temp=temp+1\n",
        "      # print(\"true\",i,j)\n",
        "  if temp==len(filter):\n",
        "    fres2.append(i)\n",
        "    # print(\"true\",i)\n",
        "\n",
        "print(fres2)"
      ],
      "metadata": {
        "colab": {
          "base_uri": "https://localhost:8080/"
        },
        "id": "6Bhego3gTos5",
        "outputId": "3e0f4245-7ae9-4bfb-c41b-0c0a2c3c1c0b"
      },
      "execution_count": null,
      "outputs": [
        {
          "output_type": "stream",
          "name": "stdout",
          "text": [
            "[0, 10, 26, 40, 49, 51, 77]\n"
          ]
        }
      ]
    },
    {
      "cell_type": "code",
      "source": [
        "# filter like or constraint\n",
        "fresExp=[]\n",
        "for i in range(0,106):\n",
        "   if resData[i]['total_experience']!= 0:\n",
        "     fresExp.append(i)\n",
        "     # print(\"true\",i,j)\n",
        "\n",
        "print(fresExp)"
      ],
      "metadata": {
        "colab": {
          "base_uri": "https://localhost:8080/"
        },
        "id": "l9UXLAymTq0f",
        "outputId": "2febdef0-582e-4ac1-89e1-ee8a9b3a8243"
      },
      "execution_count": null,
      "outputs": [
        {
          "output_type": "stream",
          "name": "stdout",
          "text": [
            "[9, 34, 43, 82]\n"
          ]
        }
      ]
    },
    {
      "cell_type": "code",
      "source": [
        "print(resData[34])"
      ],
      "metadata": {
        "colab": {
          "base_uri": "https://localhost:8080/"
        },
        "id": "9UUDPhv5WG5e",
        "outputId": "059b66ab-dd7b-4f7c-a46d-03ca9b0f81dc"
      },
      "execution_count": null,
      "outputs": [
        {
          "output_type": "stream",
          "name": "stdout",
          "text": [
            "{'name': 'B. Tech', 'email': 'avinashsubhash19@gmail.com', 'mobile_number': '017-2018', 'skills': ['C', 'Html', 'Scripting', 'Css', 'International', 'Java', 'Linux', 'Machine learning', 'Programming', 'Technical', 'Cloud', 'C++', 'Engineering', 'Cad', 'Computer science', 'Security', 'System', 'Sql', 'English', 'Database', 'Shell', 'Tensorflow', 'Python', 'Prototype', 'Analysis'], 'college_name': None, 'degree': ['https://github.com/AvinashSubhash', 'B. Tech in Computer Science'], 'designation': ['Metro-Planner'], 'experience': ['machine learning, deep learning,', 'database management, competitive', 'programming and interest in cyber-', 'security. Currently a 3-star in Codechef', 'and 5-star python badge in', 'Hackerrank.', 'Skills:', 'C++', 'Python', 'Data Structures', 'C', 'Java', 'SQL', 'HTML/CSS', 'Git', 'Shell Scripting', 'Languages Spoken', 'English', 'Hindi', 'Malayalam', 'A web application to identify the shortest route to take when moving through', 'multi-color metro lines.', 'Ship-Detection', 'with Machine Learning', '(https://github.com/AvinashSubhash/Airbus-ship-detection)', 'Detection of ships in areal images of oceans using Convolutional Neural Networks', 'Extra-Curricular Works', 'CSE Team Member, Team ROVER ASEB', 'March 2020 - Present', 'Developed an object detection application for MARS ROVER protoype.', 'Working with the team for developing a path detection feature for the rover.', 'Accomplishment:', 'Amrita Honeywell Hackathon', 'Feb 2021', 'Worked with the team and developed a prototype on CCTV Surveillance', 'Analysis system for detecting over speeding vehicles and came  under top', '10 from over 54 teams.', 'Volunteering:', 'Technical Team Member, Google Developer Student Club, ASEB', 'Sept 2020 - Present', 'Conducted various workshops on introduction to Linux, basics on', 'competitive programming, Virtual lab sessions on Tinker-CAD, Workshop', 'series on TensorFlow in \"Explore ML\" Sessions with TensorFlow and Colab.', 'Certifications:', 'Neural networks and Deep Learning', 'https://coursera.org/share/3b9a3d830479a3d5d59c35f935883a64', 'Improving Deep Neural Networks', 'https://coursera.org/share/36a4cf87a2ce48d61079c1a05bc4a640', 'Google Cloud Platform Fundamentals', 'https://coursera.org/share/db1a6e67bcb34bd7109423f2539689dc'], 'company_names': ['Acceleron Labs Ltd.'], 'no_of_pages': 1, 'total_experience': 3.83}\n"
          ]
        }
      ]
    },
    {
      "cell_type": "code",
      "source": [
        "# filter like or constraint\n",
        "filter='Bachelor'\n",
        "fresdeg=[]\n",
        "fullstring= resData[i]['degree'][0]\n",
        "for i in range(0,106):\n",
        "   if j in fullstring != None and filter in fullstring:\n",
        "     fresdeg.append(i)\n",
        "     # print(\"true\",i,j)\n",
        "\n",
        "print(fresdeg)"
      ],
      "metadata": {
        "colab": {
          "base_uri": "https://localhost:8080/"
        },
        "id": "e_onBf1XkFl3",
        "outputId": "16fcbd17-c804-4a38-dc30-fdf3793c0bef"
      },
      "execution_count": null,
      "outputs": [
        {
          "output_type": "stream",
          "name": "stdout",
          "text": [
            "[]\n"
          ]
        }
      ]
    },
    {
      "cell_type": "code",
      "source": [
        "print(resData[15]['degree'][0])"
      ],
      "metadata": {
        "colab": {
          "base_uri": "https://localhost:8080/"
        },
        "id": "-HFep8obnrxg",
        "outputId": "3ea69717-5502-4ce1-c52d-142a7920f339"
      },
      "execution_count": null,
      "outputs": [
        {
          "output_type": "stream",
          "name": "stdout",
          "text": [
            "Bachelor's Degree in Electronics and Computer Engineering\n"
          ]
        }
      ]
    },
    {
      "cell_type": "code",
      "source": [
        "# Filter with all constraints\n",
        "resc=[]\n",
        "filterC=['C']\n",
        "\n",
        "for i in range(0,106):\n",
        "  temp=0\n",
        "  for j in resData[i]['skills']:\n",
        "    if j in filterC:\n",
        "      temp=temp+1\n",
        "      # print(\"true\",i,j)\n",
        "  if temp==len(filterC):\n",
        "    resc.append(i)\n",
        "    # print(\"true\",i)\n",
        "\n",
        "print(resc)\n",
        "\n",
        "resj=[]\n",
        "filterJ=['Java']\n",
        "\n",
        "for i in range(0,106):\n",
        "  temp=0\n",
        "  for j in resData[i]['skills']:\n",
        "    if j in filterJ:\n",
        "      temp=temp+1\n",
        "      # print(\"true\",i,j)\n",
        "  if temp==len(filterJ):\n",
        "    resj.append(i)\n",
        "    # print(\"true\",i)\n",
        "\n",
        "print(resj)"
      ],
      "metadata": {
        "colab": {
          "base_uri": "https://localhost:8080/"
        },
        "id": "5Oo-WDCe4hGA",
        "outputId": "f4d6830f-5f5e-4e9f-a45a-2c4792a565af"
      },
      "execution_count": null,
      "outputs": [
        {
          "output_type": "stream",
          "name": "stdout",
          "text": [
            "[0, 3, 4, 5, 7, 8, 9, 10, 11, 12, 14, 15, 16, 18, 19, 20, 21, 22, 24, 25, 26, 27, 28, 30, 31, 32, 33, 34, 36, 38, 39, 40, 43, 45, 46, 47, 48, 49, 50, 51, 53, 54, 56, 57, 59, 60, 61, 62, 64, 65, 67, 70, 72, 75, 76, 77, 80, 81, 82, 84, 85, 86, 87, 89, 90, 94, 96, 97, 98, 100, 104, 105]\n",
            "[6, 9, 16, 20, 23, 24, 25, 26, 30, 32, 33, 34, 38, 39, 40, 45, 50, 53, 55, 58, 67, 71, 73, 74, 86, 91, 92, 93, 95, 97, 99, 100, 102, 103, 104]\n"
          ]
        }
      ]
    },
    {
      "cell_type": "code",
      "source": [
        "resh=[]\n",
        "filterh=['Html']\n",
        "\n",
        "for i in range(0,106):\n",
        "  temp=0\n",
        "  for j in resData[i]['skills']:\n",
        "    if j in filterh:\n",
        "      temp=temp+1\n",
        "      # print(\"true\",i,j)\n",
        "  if temp==len(filterh):\n",
        "    resh.append(i)\n",
        "    # print(\"true\",i)\n",
        "\n",
        "print(resh)"
      ],
      "metadata": {
        "colab": {
          "base_uri": "https://localhost:8080/"
        },
        "id": "tpnLV99p6611",
        "outputId": "81c32959-1ae7-4ef5-ca1b-35690e8d5ee5"
      },
      "execution_count": null,
      "outputs": [
        {
          "output_type": "stream",
          "name": "stdout",
          "text": [
            "[6, 8, 9, 15, 17, 18, 22, 23, 24, 25, 26, 27, 28, 29, 30, 31, 32, 33, 34, 36, 40, 50, 54, 55, 58, 68, 71, 87, 89, 96, 97, 100, 103, 104]\n"
          ]
        }
      ]
    },
    {
      "cell_type": "code",
      "source": [
        "rescl=[]\n",
        "filtercl=['Cloud']\n",
        "\n",
        "for i in range(0,106):\n",
        "  temp=0\n",
        "  for j in resData[i]['skills']:\n",
        "    if j in filtercl:\n",
        "      temp=temp+1\n",
        "      # print(\"true\",i,j)\n",
        "  if temp==len(filtercl):\n",
        "    rescl.append(i)\n",
        "    # print(\"true\",i)\n",
        "\n",
        "print(rescl)"
      ],
      "metadata": {
        "colab": {
          "base_uri": "https://localhost:8080/"
        },
        "id": "OENkYKf37s_L",
        "outputId": "ffe75f80-deb7-4b44-f6ea-8b0dbc99fb39"
      },
      "execution_count": null,
      "outputs": [
        {
          "output_type": "stream",
          "name": "stdout",
          "text": [
            "[20, 22, 26, 29, 31, 32, 34, 37, 45, 49, 52, 96, 99, 103, 104]\n"
          ]
        }
      ]
    },
    {
      "cell_type": "code",
      "source": [
        "import matplotlib.pyplot as plt\n",
        "import numpy as np\n",
        "\n",
        "y = np.array([len(resc), len(resj), len(resh), len(rescl)])\n",
        "mylabels = [\"C\", \"Java\",\"Html\",\"Cloud\"]\n",
        "\n",
        "plt.pie(y, labels = mylabels)\n",
        "plt.show() \n"
      ],
      "metadata": {
        "colab": {
          "base_uri": "https://localhost:8080/",
          "height": 248
        },
        "id": "K7joVDVB6Bg0",
        "outputId": "fcbc58e4-14e6-42ff-b138-cff3b4173a25"
      },
      "execution_count": null,
      "outputs": [
        {
          "output_type": "display_data",
          "data": {
            "text/plain": [
              "<Figure size 432x288 with 1 Axes>"
            ],
            "image/png": "[encoded data removed]"
          },
          "metadata": {}
        }
      ]
    }
  ]
}